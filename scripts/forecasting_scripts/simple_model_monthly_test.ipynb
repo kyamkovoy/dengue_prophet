{
 "cells": [
  {
   "cell_type": "code",
   "execution_count": 27,
   "metadata": {
    "collapsed": false
   },
   "outputs": [],
   "source": [
    "import pandas as pd\n",
    "import numpy as np\n",
    "import pickle\n",
    "from datetime import datetime\n",
    "from scipy.interpolate import UnivariateSpline\n",
    "import seaborn as sns\n",
    "import warnings\n",
    "warnings.simplefilter(action='ignore')\n",
    "import matplotlib.pyplot as plt\n",
    "%matplotlib inline"
   ]
  },
  {
   "cell_type": "code",
   "execution_count": 5,
   "metadata": {
    "collapsed": false,
    "scrolled": true
   },
   "outputs": [
    {
     "data": {
      "text/html": [
       "<div>\n",
       "<table border=\"1\" class=\"dataframe\">\n",
       "  <thead>\n",
       "    <tr style=\"text-align: right;\">\n",
       "      <th></th>\n",
       "      <th>date_sick_year</th>\n",
       "      <th>month</th>\n",
       "      <th>province</th>\n",
       "      <th>cases</th>\n",
       "      <th>date_sick</th>\n",
       "      <th>year_month</th>\n",
       "    </tr>\n",
       "  </thead>\n",
       "  <tbody>\n",
       "    <tr>\n",
       "      <th>44487</th>\n",
       "      <td>2012</td>\n",
       "      <td>8</td>\n",
       "      <td>10</td>\n",
       "      <td>666.0</td>\n",
       "      <td>2012-8-1</td>\n",
       "      <td>80</td>\n",
       "    </tr>\n",
       "    <tr>\n",
       "      <th>44563</th>\n",
       "      <td>2012</td>\n",
       "      <td>9</td>\n",
       "      <td>10</td>\n",
       "      <td>697.0</td>\n",
       "      <td>2012-9-1</td>\n",
       "      <td>81</td>\n",
       "    </tr>\n",
       "    <tr>\n",
       "      <th>44639</th>\n",
       "      <td>2012</td>\n",
       "      <td>10</td>\n",
       "      <td>10</td>\n",
       "      <td>1152.0</td>\n",
       "      <td>2012-10-1</td>\n",
       "      <td>82</td>\n",
       "    </tr>\n",
       "    <tr>\n",
       "      <th>44716</th>\n",
       "      <td>2012</td>\n",
       "      <td>11</td>\n",
       "      <td>10</td>\n",
       "      <td>1569.0</td>\n",
       "      <td>2012-11-1</td>\n",
       "      <td>83</td>\n",
       "    </tr>\n",
       "    <tr>\n",
       "      <th>44792</th>\n",
       "      <td>2012</td>\n",
       "      <td>12</td>\n",
       "      <td>10</td>\n",
       "      <td>1149.0</td>\n",
       "      <td>2012-12-1</td>\n",
       "      <td>84</td>\n",
       "    </tr>\n",
       "  </tbody>\n",
       "</table>\n",
       "</div>"
      ],
      "text/plain": [
       "       date_sick_year  month  province   cases  date_sick  year_month\n",
       "44487            2012      8        10   666.0   2012-8-1          80\n",
       "44563            2012      9        10   697.0   2012-9-1          81\n",
       "44639            2012     10        10  1152.0  2012-10-1          82\n",
       "44716            2012     11        10  1569.0  2012-11-1          83\n",
       "44792            2012     12        10  1149.0  2012-12-1          84"
      ]
     },
     "execution_count": 5,
     "metadata": {},
     "output_type": "execute_result"
    }
   ],
   "source": [
    "with open('../../output/cv_df_list_prospective_monthly.pkl', 'rb') as file:\n",
    "    data_file = pickle.load(file)\n",
    "\n",
    "k = 6\n",
    "prov = 10\n",
    "\n",
    "input_data = data_file[k]\n",
    "input_data['year_month'] = (input_data['date_sick_year']-2006)*12 + (input_data['month'])\n",
    "\n",
    "df = input_data.loc[input_data['province'] == prov]\n",
    "df.tail()"
   ]
  },
  {
   "cell_type": "code",
   "execution_count": 23,
   "metadata": {
    "collapsed": false
   },
   "outputs": [
    {
     "data": {
      "text/html": [
       "<div>\n",
       "<table border=\"1\" class=\"dataframe\">\n",
       "  <thead>\n",
       "    <tr style=\"text-align: right;\">\n",
       "      <th></th>\n",
       "      <th>date_sick_year</th>\n",
       "      <th>month</th>\n",
       "      <th>province</th>\n",
       "      <th>cases</th>\n",
       "      <th>date_sick</th>\n",
       "      <th>year_month</th>\n",
       "    </tr>\n",
       "  </thead>\n",
       "  <tbody>\n",
       "    <tr>\n",
       "      <th>45403</th>\n",
       "      <td>2013</td>\n",
       "      <td>8</td>\n",
       "      <td>10</td>\n",
       "      <td>1209.0</td>\n",
       "      <td>2013-8-1</td>\n",
       "      <td>92</td>\n",
       "    </tr>\n",
       "    <tr>\n",
       "      <th>45480</th>\n",
       "      <td>2013</td>\n",
       "      <td>9</td>\n",
       "      <td>10</td>\n",
       "      <td>937.0</td>\n",
       "      <td>2013-9-1</td>\n",
       "      <td>93</td>\n",
       "    </tr>\n",
       "    <tr>\n",
       "      <th>45556</th>\n",
       "      <td>2013</td>\n",
       "      <td>10</td>\n",
       "      <td>10</td>\n",
       "      <td>940.0</td>\n",
       "      <td>2013-10-1</td>\n",
       "      <td>94</td>\n",
       "    </tr>\n",
       "    <tr>\n",
       "      <th>45629</th>\n",
       "      <td>2013</td>\n",
       "      <td>11</td>\n",
       "      <td>10</td>\n",
       "      <td>940.0</td>\n",
       "      <td>2013-11-1</td>\n",
       "      <td>95</td>\n",
       "    </tr>\n",
       "    <tr>\n",
       "      <th>45699</th>\n",
       "      <td>2013</td>\n",
       "      <td>12</td>\n",
       "      <td>10</td>\n",
       "      <td>500.0</td>\n",
       "      <td>2013-12-1</td>\n",
       "      <td>96</td>\n",
       "    </tr>\n",
       "  </tbody>\n",
       "</table>\n",
       "</div>"
      ],
      "text/plain": [
       "       date_sick_year  month  province   cases  date_sick  year_month\n",
       "45403            2013      8        10  1209.0   2013-8-1          92\n",
       "45480            2013      9        10   937.0   2013-9-1          93\n",
       "45556            2013     10        10   940.0  2013-10-1          94\n",
       "45629            2013     11        10   940.0  2013-11-1          95\n",
       "45699            2013     12        10   500.0  2013-12-1          96"
      ]
     },
     "execution_count": 23,
     "metadata": {},
     "output_type": "execute_result"
    }
   ],
   "source": [
    "true_data = data_file[k+1]\n",
    "true_data['year_month'] = (true_data['date_sick_year']-2006)*12 + (true_data['month'])\n",
    "\n",
    "true_df = true_data.loc[true_data['province'] == prov]\n",
    "true_df['date_sick'] == pd.to_datetime(true_df['date_sick'])\n",
    "true_df.tail()"
   ]
  },
  {
   "cell_type": "markdown",
   "metadata": {},
   "source": [
    "### First Approach:\n",
    "\n",
    "ie. smooth, then average\n",
    "\n",
    "1. Fit a smoothing spline to the data for the entirety of the number of years (time interval of 12+ months)\n",
    "2. Find the smoothed/fitted values for each month and add as a new column to the dataframe `(smooth_cases)`\n",
    "3. Using these smoothed values, find the average value for each month\n",
    "\n",
    "Those average values for each month are the predictions for the next year."
   ]
  },
  {
   "cell_type": "code",
   "execution_count": 11,
   "metadata": {
    "collapsed": false
   },
   "outputs": [],
   "source": [
    "x = df['year_month'].tolist()\n",
    "y = df['cases'].tolist()\n",
    "\n",
    "y_sum = np.cumsum(y)\n",
    "\n",
    "spl = UnivariateSpline(x, y_sum)\n",
    "# plt.plot(x, y_sum, '*', x, spl(x), '-')"
   ]
  },
  {
   "cell_type": "code",
   "execution_count": 12,
   "metadata": {
    "collapsed": false
   },
   "outputs": [
    {
     "data": {
      "text/html": [
       "<div>\n",
       "<table border=\"1\" class=\"dataframe\">\n",
       "  <thead>\n",
       "    <tr style=\"text-align: right;\">\n",
       "      <th></th>\n",
       "      <th>date_sick_year</th>\n",
       "      <th>month</th>\n",
       "      <th>province</th>\n",
       "      <th>cases</th>\n",
       "      <th>date_sick</th>\n",
       "      <th>year_month</th>\n",
       "      <th>smooth_cases</th>\n",
       "    </tr>\n",
       "  </thead>\n",
       "  <tbody>\n",
       "    <tr>\n",
       "      <th>38753</th>\n",
       "      <td>2006</td>\n",
       "      <td>1</td>\n",
       "      <td>10</td>\n",
       "      <td>437.0</td>\n",
       "      <td>2006-1-1</td>\n",
       "      <td>1</td>\n",
       "      <td>437.000000</td>\n",
       "    </tr>\n",
       "    <tr>\n",
       "      <th>38823</th>\n",
       "      <td>2006</td>\n",
       "      <td>2</td>\n",
       "      <td>10</td>\n",
       "      <td>319.0</td>\n",
       "      <td>2006-2-1</td>\n",
       "      <td>2</td>\n",
       "      <td>319.187881</td>\n",
       "    </tr>\n",
       "    <tr>\n",
       "      <th>38891</th>\n",
       "      <td>2006</td>\n",
       "      <td>3</td>\n",
       "      <td>10</td>\n",
       "      <td>371.0</td>\n",
       "      <td>2006-3-1</td>\n",
       "      <td>3</td>\n",
       "      <td>370.488220</td>\n",
       "    </tr>\n",
       "    <tr>\n",
       "      <th>38962</th>\n",
       "      <td>2006</td>\n",
       "      <td>4</td>\n",
       "      <td>10</td>\n",
       "      <td>198.0</td>\n",
       "      <td>2006-4-1</td>\n",
       "      <td>4</td>\n",
       "      <td>198.798468</td>\n",
       "    </tr>\n",
       "    <tr>\n",
       "      <th>39037</th>\n",
       "      <td>2006</td>\n",
       "      <td>5</td>\n",
       "      <td>10</td>\n",
       "      <td>735.0</td>\n",
       "      <td>2006-5-1</td>\n",
       "      <td>5</td>\n",
       "      <td>734.197523</td>\n",
       "    </tr>\n",
       "  </tbody>\n",
       "</table>\n",
       "</div>"
      ],
      "text/plain": [
       "       date_sick_year  month  province  cases date_sick  year_month  \\\n",
       "38753            2006      1        10  437.0  2006-1-1           1   \n",
       "38823            2006      2        10  319.0  2006-2-1           2   \n",
       "38891            2006      3        10  371.0  2006-3-1           3   \n",
       "38962            2006      4        10  198.0  2006-4-1           4   \n",
       "39037            2006      5        10  735.0  2006-5-1           5   \n",
       "\n",
       "       smooth_cases  \n",
       "38753    437.000000  \n",
       "38823    319.187881  \n",
       "38891    370.488220  \n",
       "38962    198.798468  \n",
       "39037    734.197523  "
      ]
     },
     "execution_count": 12,
     "metadata": {},
     "output_type": "execute_result"
    }
   ],
   "source": [
    "# get the predicted values and add to the dataframe\n",
    "\n",
    "y_fit = spl(x)\n",
    "\n",
    "y_smooth = np.diff(y_fit)\n",
    "n = np.append(y_smooth[::-1], y_sum[0])\n",
    "y_smooth = n[::-1]\n",
    "\n",
    "df['smooth_cases'] = y_smooth\n",
    "\n",
    "df.head()"
   ]
  },
  {
   "cell_type": "code",
   "execution_count": 20,
   "metadata": {
    "collapsed": false
   },
   "outputs": [
    {
     "name": "stdout",
     "output_type": "stream",
     "text": [
      "[415.06345699882525, 307.59744568848868, 313.78179867052449, 279.01253348778727, 452.54434043880195, 653.22282713614754, 707.98054935845801, 790.32041936107191, 676.27725326891721, 888.38819239105578, 936.03900389363037, 658.6346328147722]\n"
     ]
    }
   ],
   "source": [
    "# now get the averages for each month\n",
    "# currently this only works for one month ahead\n",
    "\n",
    "monthly_avg = []\n",
    "for i in range(1, 13):\n",
    "    monthly_cases = df['smooth_cases'].loc[df['month'] == i].tolist()\n",
    "    avg = np.mean(monthly_cases)\n",
    "    monthly_avg.append(avg)\n",
    "\n",
    "print(monthly_avg)\n",
    "\n",
    "# monthly_avg is the predictions"
   ]
  },
  {
   "cell_type": "code",
   "execution_count": 34,
   "metadata": {
    "collapsed": false
   },
   "outputs": [
    {
     "data": {
      "text/plain": [
       "[<matplotlib.lines.Line2D at 0x1e7c89d27b8>,\n",
       " <matplotlib.lines.Line2D at 0x1e7c89d2a58>]"
      ]
     },
     "execution_count": 34,
     "metadata": {},
     "output_type": "execute_result"
    },
    {
     "data": {
      "image/png": "[encoded data removed]",
      "text/plain": [
       "<matplotlib.figure.Figure at 0x1e7c90deb38>"
      ]
     },
     "metadata": {},
     "output_type": "display_data"
    }
   ],
   "source": [
    "# MAKE SOME GRAPHS\n",
    "sns.set()\n",
    "plt.style.use('seaborn-paper')\n",
    "\n",
    "years = true_df['year_month'].tolist()\n",
    "last_year = years[-12:]\n",
    "true_cases = true_df['cases']\n",
    "forecast = monthly_avg\n",
    "\n",
    "plt.title('Forecast using monthly averages: monthly data')\n",
    "plt.xlabel('months since 2006')\n",
    "plt.ylabel('cases')\n",
    "\n",
    "plt.plot(years, true_cases, '-', last_year, forecast, '-')"
   ]
  },
  {
   "cell_type": "markdown",
   "metadata": {},
   "source": [
    "### Second Approach\n",
    "\n",
    "ie. average then smooth\n",
    "\n",
    "1. Find the average number of cases for each month\n",
    "2. Smooth the average values for each month (time interval of strictly 12 months)\n",
    "3. Get the smoothed/fitted average values for each month\n",
    "\n",
    "These are the predictions for the next year."
   ]
  },
  {
   "cell_type": "code",
   "execution_count": 192,
   "metadata": {
    "collapsed": false
   },
   "outputs": [],
   "source": [
    "# now try finding the average value for each month\n",
    "# fitting a spline to the monthly averages (lose years)\n",
    "# then get the fitted values for each month\n",
    "\n",
    "# start by getting the monthly averages\n",
    "monthly_avg2 = []\n",
    "for i in range(1, 13):\n",
    "    monthly_cases = df['cases'].loc[df['month'] == i].tolist()\n",
    "    avg = np.mean(monthly_cases)\n",
    "    monthly_avg2.append(avg)\n",
    "    \n",
    "# monthly_avg2 is the \"true\" monthly averages"
   ]
  },
  {
   "cell_type": "code",
   "execution_count": 193,
   "metadata": {
    "collapsed": false,
    "scrolled": false
   },
   "outputs": [
    {
     "name": "stdout",
     "output_type": "stream",
     "text": [
      "[  437.5          302.25334334   290.8536056    261.15577502   416.78529476\n",
      "   594.79149355   723.50185493   822.37489368   755.2108737    962.37191041\n",
      "  1278.28850541   789.95961593]\n"
     ]
    },
    {
     "data": {
      "image/png": "[encoded data removed]",
      "text/plain": [
       "<matplotlib.figure.Figure at 0x1aeb5c639e8>"
      ]
     },
     "metadata": {},
     "output_type": "display_data"
    }
   ],
   "source": [
    "# get the fitted values\n",
    "x2 = np.arange(1, 13)\n",
    "y_sum2 = np.cumsum(monthly_avg2)\n",
    "xnew2 = np.linspace(1, 12, num=100, endpoint=True)\n",
    "\n",
    "spl2 = UnivariateSpline(x2, y_sum2)\n",
    "plt.plot(x2, y_sum2, '*', xnew2, spl2(xnew2), '-')\n",
    "\n",
    "y_fit2 = spl2(x2)\n",
    "y_smooth2 = np.diff(y_fit2)\n",
    "m = np.append(y_smooth2[::-1], y_sum2[0])\n",
    "y_smooth2 = m[::-1]\n",
    "\n",
    "print(y_smooth2)\n",
    "\n",
    "# y_smooth2 are the predictions"
   ]
  },
  {
   "cell_type": "markdown",
   "metadata": {},
   "source": [
    "### Comparing Approaches"
   ]
  },
  {
   "cell_type": "code",
   "execution_count": 194,
   "metadata": {
    "collapsed": false
   },
   "outputs": [
    {
     "name": "stdout",
     "output_type": "stream",
     "text": [
      "[ 0.08987247  0.78593428  1.72997854  2.08174393  1.02755608  1.2086858\n",
      "  3.66535301  4.62883576  2.64813659  0.68660186  2.07274559  1.23148422]\n"
     ]
    }
   ],
   "source": [
    "# now compare the two approaches\n",
    "\n",
    "diff_in_approaches = abs(monthly_avg - y_smooth2)\n",
    "print(diff_in_approaches)"
   ]
  },
  {
   "cell_type": "code",
   "execution_count": 196,
   "metadata": {
    "collapsed": false
   },
   "outputs": [
    {
     "name": "stdout",
     "output_type": "stream",
     "text": [
      "[  8.98724682e-02   2.32590935e-01   3.83584137e-01   4.25968904e-01\n",
      "   3.12850838e-01   1.79352285e-04   5.63498080e-01   1.10372944e+00\n",
      "   1.13726289e+00   6.85308545e-01   2.38749003e-01   2.81317114e-02]\n"
     ]
    }
   ],
   "source": [
    "true_avg_vs_first_approach = abs(np.array(monthly_avg) - np.array(monthly_avg2))\n",
    "print(true_avg_vs_first_approach)"
   ]
  },
  {
   "cell_type": "code",
   "execution_count": 197,
   "metadata": {
    "collapsed": false
   },
   "outputs": [
    {
     "name": "stdout",
     "output_type": "stream",
     "text": [
      "[ 0.          0.55334334  1.3463944   1.65577502  0.71470524  1.20850645\n",
      "  3.10185493  3.52510632  1.5108737   1.37191041  2.31149459  1.25961593]\n"
     ]
    }
   ],
   "source": [
    "true_avg_vs_second_approach = abs(np.array(y_smooth2) - np.array(monthly_avg2))\n",
    "print(true_avg_vs_second_approach)"
   ]
  },
  {
   "cell_type": "code",
   "execution_count": null,
   "metadata": {
    "collapsed": true
   },
   "outputs": [],
   "source": [
    "\n",
    "'''\n",
    "input_data['date_sick'] = pd.to_datetime(input_data['date_sick'])\n",
    "\n",
    "data = pd.DataFrame({'date_sick': input_data['date_sick'], 'cases': input_data['cases']})\n",
    "data = data.set_index('date_sick')\n",
    "\n",
    "data\n",
    "\n",
    "plt.plot(data)\n",
    "'''"
   ]
  }
 ],
 "metadata": {
  "anaconda-cloud": {},
  "kernelspec": {
   "display_name": "Python [conda root]",
   "language": "python",
   "name": "conda-root-py"
  },
  "language_info": {
   "codemirror_mode": {
    "name": "ipython",
    "version": 3
   },
   "file_extension": ".py",
   "mimetype": "text/x-python",
   "name": "python",
   "nbconvert_exporter": "python",
   "pygments_lexer": "ipython3",
   "version": "3.5.2"
  }
 },
 "nbformat": 4,
 "nbformat_minor": 2
}
