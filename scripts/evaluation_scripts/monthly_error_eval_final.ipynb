{
 "cells": [
  {
   "cell_type": "code",
   "execution_count": 48,
   "metadata": {
    "collapsed": true
   },
   "outputs": [],
   "source": [
    "import pandas as pd\n",
    "import numpy as np\n",
    "import seaborn as sns\n",
    "import pickle\n",
    "import os\n",
    "import warnings\n",
    "from matplotlib import pyplot as plt\n",
    "from matplotlib import axes\n",
    "warnings.simplefilter(action='ignore')\n",
    "%matplotlib inline"
   ]
  },
  {
   "cell_type": "code",
   "execution_count": 3,
   "metadata": {
    "collapsed": false
   },
   "outputs": [],
   "source": [
    "sns.set()\n",
    "plt.style.use('seaborn-poster')"
   ]
  },
  {
   "cell_type": "code",
   "execution_count": 9,
   "metadata": {
    "collapsed": true
   },
   "outputs": [],
   "source": [
    "def load_error_df(model, prov, year, month):\n",
    "    # load the data\n",
    "    folder = '../../output/monthly_forecasts/' + model + '/' + 'prov_' + str(prov) + '_monthly/'\n",
    "    file = 'prov_' + str(prov) + '_' + str(year) + '_' + str(month) + '_monthly_errors.csv'\n",
    "    error_df = pd.read_csv(folder + file)\n",
    "    \n",
    "    return error_df"
   ]
  },
  {
   "cell_type": "code",
   "execution_count": 77,
   "metadata": {
    "collapsed": false
   },
   "outputs": [
    {
     "data": {
      "text/html": [
       "<div>\n",
       "<table border=\"1\" class=\"dataframe\">\n",
       "  <thead>\n",
       "    <tr style=\"text-align: right;\">\n",
       "      <th></th>\n",
       "      <th>error</th>\n",
       "      <th>month</th>\n",
       "      <th>year</th>\n",
       "    </tr>\n",
       "  </thead>\n",
       "  <tbody>\n",
       "    <tr>\n",
       "      <th>0</th>\n",
       "      <td>539.458061</td>\n",
       "      <td>1</td>\n",
       "      <td>2014</td>\n",
       "    </tr>\n",
       "    <tr>\n",
       "      <th>1</th>\n",
       "      <td>394.809960</td>\n",
       "      <td>2</td>\n",
       "      <td>2014</td>\n",
       "    </tr>\n",
       "    <tr>\n",
       "      <th>2</th>\n",
       "      <td>374.302524</td>\n",
       "      <td>3</td>\n",
       "      <td>2014</td>\n",
       "    </tr>\n",
       "    <tr>\n",
       "      <th>3</th>\n",
       "      <td>340.236466</td>\n",
       "      <td>4</td>\n",
       "      <td>2014</td>\n",
       "    </tr>\n",
       "    <tr>\n",
       "      <th>4</th>\n",
       "      <td>497.132748</td>\n",
       "      <td>5</td>\n",
       "      <td>2014</td>\n",
       "    </tr>\n",
       "  </tbody>\n",
       "</table>\n",
       "</div>"
      ],
      "text/plain": [
       "        error  month  year\n",
       "0  539.458061      1  2014\n",
       "1  394.809960      2  2014\n",
       "2  374.302524      3  2014\n",
       "3  340.236466      4  2014\n",
       "4  497.132748      5  2014"
      ]
     },
     "execution_count": 77,
     "metadata": {},
     "output_type": "execute_result"
    }
   ],
   "source": [
    "load_error_df('default_prophet', 10, 2014, 1).head()"
   ]
  },
  {
   "cell_type": "code",
   "execution_count": 75,
   "metadata": {
    "collapsed": false
   },
   "outputs": [
    {
     "name": "stdout",
     "output_type": "stream",
     "text": [
      "(108, 12)\n"
     ]
    }
   ],
   "source": [
    "all_errors = []\n",
    "for year in range(2008, 2017):\n",
    "    for month in range(1,13):\n",
    "        error_df = load_error_df('default_prophet', 90, year, month)\n",
    "        error = np.array(error_df['error'])\n",
    "        all_errors.append(error)\n",
    "        \n",
    "error_array = np.array(all_errors)\n",
    "\n",
    "print(error_array.shape)"
   ]
  },
  {
   "cell_type": "code",
   "execution_count": 76,
   "metadata": {
    "collapsed": false
   },
   "outputs": [
    {
     "data": {
      "text/plain": [
       "array([ 185.49284163,  186.27381757,  187.49869093,  188.77757831,\n",
       "        189.71986709,  190.70129922,  192.00756892,  193.8287293 ,\n",
       "        195.73202042,  197.53700721,  199.07035646,  200.72813521])"
      ]
     },
     "execution_count": 76,
     "metadata": {},
     "output_type": "execute_result"
    }
   ],
   "source": [
    "avg_error_each_step = np.mean(error_array, axis=0)\n",
    "avg_error_each_step"
   ]
  },
  {
   "cell_type": "markdown",
   "metadata": {},
   "source": [
    "What I did above was:\n",
    "\n",
    "- took the 12 months of errors for each forecast and put them into an array\n",
    "- first column is one step ahead, second is two steps, etc\n",
    "- found the average of each column\n",
    "\n",
    "So the error did not change significantly depending on how many steps ahead I was forecasting...?\n",
    "\n",
    "This is only for monthly targets though"
   ]
  }
 ],
 "metadata": {
  "anaconda-cloud": {},
  "kernelspec": {
   "display_name": "Python [conda root]",
   "language": "python",
   "name": "conda-root-py"
  },
  "language_info": {
   "codemirror_mode": {
    "name": "ipython",
    "version": 3
   },
   "file_extension": ".py",
   "mimetype": "text/x-python",
   "name": "python",
   "nbconvert_exporter": "python",
   "pygments_lexer": "ipython3",
   "version": "3.5.2"
  }
 },
 "nbformat": 4,
 "nbformat_minor": 1
}
