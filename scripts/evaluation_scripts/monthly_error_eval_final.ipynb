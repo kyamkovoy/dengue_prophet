{
 "cells": [
  {
   "cell_type": "code",
   "execution_count": 1,
   "metadata": {
    "collapsed": true
   },
   "outputs": [],
   "source": [
    "import pandas as pd\n",
    "import numpy as np\n",
    "import pickle\n",
    "from sklearn.metrics import mean_squared_error as mse\n",
    "import os\n",
    "import warnings\n",
    "warnings.simplefilter(action='ignore')"
   ]
  },
  {
   "cell_type": "code",
   "execution_count": null,
   "metadata": {
    "collapsed": true
   },
   "outputs": [],
   "source": [
    "def load_error_df(folder):\n",
    "    # load the data\n",
    "    file_path = folder + '/monthly_errors.csv'\n",
    "    error_df = pd.read_csv(file_path)\n",
    "    error_df['province'] = error_df['province'].astype(int)\n",
    "    error_df['year'] = error_df['year'].astype(int)\n",
    "    error_df['peak_month_error'] = error_df['peak_month_error'].astype(int)\n",
    "    error_df = error_df.loc[error_df['year'] != 2007]\n",
    "    \n",
    "    return error_df"
   ]
  }
 ],
 "metadata": {
  "anaconda-cloud": {},
  "kernelspec": {
   "display_name": "Python [conda root]",
   "language": "python",
   "name": "conda-root-py"
  },
  "language_info": {
   "codemirror_mode": {
    "name": "ipython",
    "version": 3
   },
   "file_extension": ".py",
   "mimetype": "text/x-python",
   "name": "python",
   "nbconvert_exporter": "python",
   "pygments_lexer": "ipython3",
   "version": "3.5.2"
  }
 },
 "nbformat": 4,
 "nbformat_minor": 1
}
