{
 "cells": [
  {
   "cell_type": "code",
   "execution_count": 1,
   "metadata": {
    "collapsed": true
   },
   "outputs": [],
   "source": [
    "import pandas as pd\n",
    "import numpy as np\n",
    "import pickle\n",
    "from sklearn.metrics import mean_squared_error as mse\n",
    "import os\n",
    "import warnings\n",
    "warnings.simplefilter(action='ignore')"
   ]
  },
  {
   "cell_type": "code",
   "execution_count": 2,
   "metadata": {
    "collapsed": true
   },
   "outputs": [],
   "source": [
    "data =  pd.read_csv('../../data/province-month.csv')\n",
    "province_codes = [10, 41, 50, 70, 90]\n",
    "\n",
    "which_model = 'default_prophet'\n",
    "prov = 50\n",
    "year = 2011\n",
    "month = 3\n",
    "\n",
    "folder_name = '../../output/monthly_forecasts/' + which_model + '/'\n",
    "prov_folder = folder_name + 'prov_' + str(prov) + '_monthly/'\n",
    "file_name = prov_folder + 'prov_' + str(prov) + '_' + str(year) + '_' + str(month) + '_monthly.csv'\n",
    "forecast_df = pd.read_csv(file_name)\n",
    "\n",
    "forecast_cases = np.array(forecast_df['yhat'])\n",
    "\n",
    "date = np.array(forecast_df['ds'])"
   ]
  },
  {
   "cell_type": "code",
   "execution_count": 3,
   "metadata": {
    "collapsed": false
   },
   "outputs": [
    {
     "name": "stdout",
     "output_type": "stream",
     "text": [
      "       date_sick_year  month  province  cases\n",
      "47498            2016      1        50    7.0\n",
      "47570            2016      2        50    4.0\n",
      "47644            2016      3        50    1.0\n",
      "47713            2016      4        50    4.0\n",
      "47784            2016      5        50   12.0\n",
      "47853            2016      6        50   16.0\n",
      "47928            2016      7        50  167.0\n",
      "48004            2016      8        50  284.0\n",
      "48078            2016      9        50  165.0\n",
      "48151            2016     10        50   84.0\n",
      "48223            2016     11        50   48.0\n",
      "48290            2016     12        50   14.0\n"
     ]
    }
   ],
   "source": [
    "data.head()\n",
    "prov_data = data.loc[data['province'] == prov]\n",
    "blah = prov_data.loc[prov_data['date_sick_year'] == 2016]\n",
    "print(blah)"
   ]
  },
  {
   "cell_type": "code",
   "execution_count": 4,
   "metadata": {
    "collapsed": false
   },
   "outputs": [
    {
     "data": {
      "text/plain": [
       "array(['2011-02-28', '2011-03-31', '2011-04-30', '2011-05-31',\n",
       "       '2011-06-30', '2011-07-31', '2011-08-31', '2011-09-30',\n",
       "       '2011-10-31', '2011-11-30', '2011-12-31', '2012-01-31'], dtype=object)"
      ]
     },
     "execution_count": 4,
     "metadata": {},
     "output_type": "execute_result"
    }
   ],
   "source": [
    "forecast_cases\n",
    "date"
   ]
  },
  {
   "cell_type": "code",
   "execution_count": 5,
   "metadata": {
    "collapsed": false
   },
   "outputs": [
    {
     "name": "stdout",
     "output_type": "stream",
     "text": [
      "12\n"
     ]
    }
   ],
   "source": [
    "# years  2008 2008 2008 2008 2008 2008 2008 2008 2008 2008 2009 2009\n",
    "# months 3    4    5    6    7    8    9    10   11   12   1    2\n",
    "\n",
    "months_first = np.arange(month, 13)\n",
    "months_last = np.arange(1, month)\n",
    "\n",
    "month_list = np.concatenate([months_first, months_last])\n",
    "\n",
    "year_list = []\n",
    "for i in month_list:\n",
    "    if i >= month:\n",
    "        year_list.append(year)\n",
    "    else: \n",
    "        year_list.append(year + 1)\n",
    "\n",
    "print(len(year_list))"
   ]
  },
  {
   "cell_type": "code",
   "execution_count": 7,
   "metadata": {
    "collapsed": false
   },
   "outputs": [
    {
     "name": "stdout",
     "output_type": "stream",
     "text": [
      "[2008, 2008, 2008, 2008, 2008, 2008, 2008, 2008, 2008, 2008, 2009, 2009]\n"
     ]
    }
   ],
   "source": [
    "new_year_list = [year if i >=month else year + 1 for i in month_list]\n",
    "print(new_year_list)"
   ]
  },
  {
   "cell_type": "code",
   "execution_count": 18,
   "metadata": {
    "collapsed": false
   },
   "outputs": [],
   "source": [
    "\n",
    "true_cases = []\n",
    "for i in range(0, 12):\n",
    "    year = year_list[i]\n",
    "    month = month_list[i]\n",
    "    cases_df = float(prov_data['cases'].loc[(prov_data['date_sick_year'] == year) &  (prov_data['month'] == month)])\n",
    "    true_cases.append(cases_df)\n",
    "\n",
    "true_cases = np.array(true_cases)"
   ]
  },
  {
   "cell_type": "code",
   "execution_count": 19,
   "metadata": {
    "collapsed": false
   },
   "outputs": [
    {
     "data": {
      "text/plain": [
       "array([  501.,   561.,   595.,   900.,  1054.,  1228.,   508.,  1355.,\n",
       "         914.,   680.,   354.,   225.])"
      ]
     },
     "execution_count": 19,
     "metadata": {},
     "output_type": "execute_result"
    }
   ],
   "source": [
    "true_cases"
   ]
  },
  {
   "cell_type": "code",
   "execution_count": 14,
   "metadata": {
    "collapsed": false
   },
   "outputs": [
    {
     "data": {
      "text/plain": [
       "dtype('float64')"
      ]
     },
     "execution_count": 14,
     "metadata": {},
     "output_type": "execute_result"
    }
   ],
   "source": [
    "cases_df = prov_data['cases'].loc[(prov_data['date_sick_year'] == year) &  (prov_data['month'] == month)]\n",
    "cases_df.dtype"
   ]
  },
  {
   "cell_type": "code",
   "execution_count": 69,
   "metadata": {
    "collapsed": false
   },
   "outputs": [
    {
     "name": "stdout",
     "output_type": "stream",
     "text": [
      "[ 323.4264863   227.43773184  571.55992707  743.01418805  675.58282072\n",
      "  624.35504617  672.81948518  670.6813715   710.2417155   583.83672762\n",
      "  496.29922113  354.60581714]\n",
      "[  501.   561.   595.   900.  1054.  1228.   508.  1355.   914.   680.\n",
      "   354.   225.]\n",
      "\n",
      "[ 177.5735137   333.56226816   23.44007293  156.98581195  378.41717928\n",
      "  603.64495383  164.81948518  684.3186285   203.7582845    96.16327238\n",
      "  142.29922113  129.60581714]\n"
     ]
    }
   ],
   "source": [
    "print(forecast_cases)\n",
    "print(true_cases)\n",
    "\n",
    "errors = abs(true_cases - forecast_cases)\n",
    "print()\n",
    "print(errors)"
   ]
  },
  {
   "cell_type": "code",
   "execution_count": 75,
   "metadata": {
    "collapsed": false
   },
   "outputs": [
    {
     "data": {
      "text/html": [
       "<div>\n",
       "<table border=\"1\" class=\"dataframe\">\n",
       "  <thead>\n",
       "    <tr style=\"text-align: right;\">\n",
       "      <th></th>\n",
       "      <th>error</th>\n",
       "      <th>month</th>\n",
       "      <th>year</th>\n",
       "    </tr>\n",
       "  </thead>\n",
       "  <tbody>\n",
       "    <tr>\n",
       "      <th>0</th>\n",
       "      <td>177.573514</td>\n",
       "      <td>3</td>\n",
       "      <td>2008</td>\n",
       "    </tr>\n",
       "    <tr>\n",
       "      <th>1</th>\n",
       "      <td>333.562268</td>\n",
       "      <td>4</td>\n",
       "      <td>2008</td>\n",
       "    </tr>\n",
       "    <tr>\n",
       "      <th>2</th>\n",
       "      <td>23.440073</td>\n",
       "      <td>5</td>\n",
       "      <td>2008</td>\n",
       "    </tr>\n",
       "    <tr>\n",
       "      <th>3</th>\n",
       "      <td>156.985812</td>\n",
       "      <td>6</td>\n",
       "      <td>2008</td>\n",
       "    </tr>\n",
       "    <tr>\n",
       "      <th>4</th>\n",
       "      <td>378.417179</td>\n",
       "      <td>7</td>\n",
       "      <td>2008</td>\n",
       "    </tr>\n",
       "    <tr>\n",
       "      <th>5</th>\n",
       "      <td>603.644954</td>\n",
       "      <td>8</td>\n",
       "      <td>2008</td>\n",
       "    </tr>\n",
       "    <tr>\n",
       "      <th>6</th>\n",
       "      <td>164.819485</td>\n",
       "      <td>9</td>\n",
       "      <td>2008</td>\n",
       "    </tr>\n",
       "    <tr>\n",
       "      <th>7</th>\n",
       "      <td>684.318629</td>\n",
       "      <td>10</td>\n",
       "      <td>2008</td>\n",
       "    </tr>\n",
       "    <tr>\n",
       "      <th>8</th>\n",
       "      <td>203.758285</td>\n",
       "      <td>11</td>\n",
       "      <td>2008</td>\n",
       "    </tr>\n",
       "    <tr>\n",
       "      <th>9</th>\n",
       "      <td>96.163272</td>\n",
       "      <td>12</td>\n",
       "      <td>2008</td>\n",
       "    </tr>\n",
       "    <tr>\n",
       "      <th>10</th>\n",
       "      <td>142.299221</td>\n",
       "      <td>1</td>\n",
       "      <td>2009</td>\n",
       "    </tr>\n",
       "    <tr>\n",
       "      <th>11</th>\n",
       "      <td>129.605817</td>\n",
       "      <td>2</td>\n",
       "      <td>2009</td>\n",
       "    </tr>\n",
       "  </tbody>\n",
       "</table>\n",
       "</div>"
      ],
      "text/plain": [
       "         error  month  year\n",
       "0   177.573514      3  2008\n",
       "1   333.562268      4  2008\n",
       "2    23.440073      5  2008\n",
       "3   156.985812      6  2008\n",
       "4   378.417179      7  2008\n",
       "5   603.644954      8  2008\n",
       "6   164.819485      9  2008\n",
       "7   684.318629     10  2008\n",
       "8   203.758285     11  2008\n",
       "9    96.163272     12  2008\n",
       "10  142.299221      1  2009\n",
       "11  129.605817      2  2009"
      ]
     },
     "execution_count": 75,
     "metadata": {},
     "output_type": "execute_result"
    }
   ],
   "source": [
    "error_dict = {'year': year_list, 'month': month_list, 'error': errors}\n",
    "error_df = pd.DataFrame(error_dict)\n",
    "\n",
    "error_df"
   ]
  },
  {
   "cell_type": "code",
   "execution_count": 52,
   "metadata": {
    "collapsed": false
   },
   "outputs": [
    {
     "data": {
      "text/html": [
       "<div>\n",
       "<table border=\"1\" class=\"dataframe\">\n",
       "  <thead>\n",
       "    <tr style=\"text-align: right;\">\n",
       "      <th></th>\n",
       "      <th>date_sick_year</th>\n",
       "      <th>month</th>\n",
       "      <th>province</th>\n",
       "      <th>cases</th>\n",
       "    </tr>\n",
       "  </thead>\n",
       "  <tbody>\n",
       "    <tr>\n",
       "      <th>41358</th>\n",
       "      <td>2009</td>\n",
       "      <td>1</td>\n",
       "      <td>10</td>\n",
       "      <td>354.0</td>\n",
       "    </tr>\n",
       "    <tr>\n",
       "      <th>41425</th>\n",
       "      <td>2009</td>\n",
       "      <td>2</td>\n",
       "      <td>10</td>\n",
       "      <td>225.0</td>\n",
       "    </tr>\n",
       "    <tr>\n",
       "      <th>41495</th>\n",
       "      <td>2009</td>\n",
       "      <td>3</td>\n",
       "      <td>10</td>\n",
       "      <td>219.0</td>\n",
       "    </tr>\n",
       "    <tr>\n",
       "      <th>41568</th>\n",
       "      <td>2009</td>\n",
       "      <td>4</td>\n",
       "      <td>10</td>\n",
       "      <td>208.0</td>\n",
       "    </tr>\n",
       "    <tr>\n",
       "      <th>41642</th>\n",
       "      <td>2009</td>\n",
       "      <td>5</td>\n",
       "      <td>10</td>\n",
       "      <td>287.0</td>\n",
       "    </tr>\n",
       "    <tr>\n",
       "      <th>41718</th>\n",
       "      <td>2009</td>\n",
       "      <td>6</td>\n",
       "      <td>10</td>\n",
       "      <td>584.0</td>\n",
       "    </tr>\n",
       "    <tr>\n",
       "      <th>41793</th>\n",
       "      <td>2009</td>\n",
       "      <td>7</td>\n",
       "      <td>10</td>\n",
       "      <td>513.0</td>\n",
       "    </tr>\n",
       "    <tr>\n",
       "      <th>41869</th>\n",
       "      <td>2009</td>\n",
       "      <td>8</td>\n",
       "      <td>10</td>\n",
       "      <td>622.0</td>\n",
       "    </tr>\n",
       "    <tr>\n",
       "      <th>41944</th>\n",
       "      <td>2009</td>\n",
       "      <td>9</td>\n",
       "      <td>10</td>\n",
       "      <td>548.0</td>\n",
       "    </tr>\n",
       "    <tr>\n",
       "      <th>42019</th>\n",
       "      <td>2009</td>\n",
       "      <td>10</td>\n",
       "      <td>10</td>\n",
       "      <td>644.0</td>\n",
       "    </tr>\n",
       "    <tr>\n",
       "      <th>42093</th>\n",
       "      <td>2009</td>\n",
       "      <td>11</td>\n",
       "      <td>10</td>\n",
       "      <td>793.0</td>\n",
       "    </tr>\n",
       "    <tr>\n",
       "      <th>42165</th>\n",
       "      <td>2009</td>\n",
       "      <td>12</td>\n",
       "      <td>10</td>\n",
       "      <td>658.0</td>\n",
       "    </tr>\n",
       "  </tbody>\n",
       "</table>\n",
       "</div>"
      ],
      "text/plain": [
       "       date_sick_year  month  province  cases\n",
       "41358            2009      1        10  354.0\n",
       "41425            2009      2        10  225.0\n",
       "41495            2009      3        10  219.0\n",
       "41568            2009      4        10  208.0\n",
       "41642            2009      5        10  287.0\n",
       "41718            2009      6        10  584.0\n",
       "41793            2009      7        10  513.0\n",
       "41869            2009      8        10  622.0\n",
       "41944            2009      9        10  548.0\n",
       "42019            2009     10        10  644.0\n",
       "42093            2009     11        10  793.0\n",
       "42165            2009     12        10  658.0"
      ]
     },
     "execution_count": 52,
     "metadata": {},
     "output_type": "execute_result"
    }
   ],
   "source": [
    "prov_data.loc[prov_data['date_sick_year'] == 2009]"
   ]
  },
  {
   "cell_type": "code",
   "execution_count": 7,
   "metadata": {
    "collapsed": false
   },
   "outputs": [
    {
     "data": {
      "text/html": [
       "<div>\n",
       "<table border=\"1\" class=\"dataframe\">\n",
       "  <thead>\n",
       "    <tr style=\"text-align: right;\">\n",
       "      <th></th>\n",
       "      <th>date_sick_year</th>\n",
       "      <th>month</th>\n",
       "      <th>province</th>\n",
       "      <th>cases</th>\n",
       "    </tr>\n",
       "  </thead>\n",
       "  <tbody>\n",
       "    <tr>\n",
       "      <th>0</th>\n",
       "      <td>1968</td>\n",
       "      <td>1</td>\n",
       "      <td>10</td>\n",
       "      <td>55.0</td>\n",
       "    </tr>\n",
       "    <tr>\n",
       "      <th>1</th>\n",
       "      <td>1968</td>\n",
       "      <td>1</td>\n",
       "      <td>11</td>\n",
       "      <td>3.0</td>\n",
       "    </tr>\n",
       "    <tr>\n",
       "      <th>2</th>\n",
       "      <td>1968</td>\n",
       "      <td>1</td>\n",
       "      <td>12</td>\n",
       "      <td>4.0</td>\n",
       "    </tr>\n",
       "    <tr>\n",
       "      <th>3</th>\n",
       "      <td>1968</td>\n",
       "      <td>1</td>\n",
       "      <td>13</td>\n",
       "      <td>0.0</td>\n",
       "    </tr>\n",
       "    <tr>\n",
       "      <th>4</th>\n",
       "      <td>1968</td>\n",
       "      <td>1</td>\n",
       "      <td>14</td>\n",
       "      <td>0.0</td>\n",
       "    </tr>\n",
       "  </tbody>\n",
       "</table>\n",
       "</div>"
      ],
      "text/plain": [
       "   date_sick_year  month  province  cases\n",
       "0            1968      1        10   55.0\n",
       "1            1968      1        11    3.0\n",
       "2            1968      1        12    4.0\n",
       "3            1968      1        13    0.0\n",
       "4            1968      1        14    0.0"
      ]
     },
     "execution_count": 7,
     "metadata": {},
     "output_type": "execute_result"
    }
   ],
   "source": [
    "data.head()"
   ]
  }
 ],
 "metadata": {
  "anaconda-cloud": {},
  "kernelspec": {
   "display_name": "Python [conda root]",
   "language": "python",
   "name": "conda-root-py"
  },
  "language_info": {
   "codemirror_mode": {
    "name": "ipython",
    "version": 3
   },
   "file_extension": ".py",
   "mimetype": "text/x-python",
   "name": "python",
   "nbconvert_exporter": "python",
   "pygments_lexer": "ipython3",
   "version": "3.5.2"
  }
 },
 "nbformat": 4,
 "nbformat_minor": 2
}
