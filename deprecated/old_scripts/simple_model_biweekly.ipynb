{
 "cells": [
  {
   "cell_type": "code",
   "execution_count": 79,
   "metadata": {
    "collapsed": false
   },
   "outputs": [],
   "source": [
    "import pandas as pd\n",
    "import numpy as np\n",
    "import pickle\n",
    "from datetime import datetime\n",
    "from scipy.interpolate import UnivariateSpline\n",
    "import seaborn as sns\n",
    "import warnings\n",
    "warnings.simplefilter(action='ignore')\n",
    "import matplotlib.pyplot as plt\n",
    "%matplotlib inline"
   ]
  },
  {
   "cell_type": "code",
   "execution_count": 80,
   "metadata": {
    "collapsed": false,
    "scrolled": true
   },
   "outputs": [
    {
     "data": {
      "text/html": [
       "<div>\n",
       "<table border=\"1\" class=\"dataframe\">\n",
       "  <thead>\n",
       "    <tr style=\"text-align: right;\">\n",
       "      <th></th>\n",
       "      <th>province</th>\n",
       "      <th>year</th>\n",
       "      <th>biweek</th>\n",
       "      <th>date_sick</th>\n",
       "      <th>cases</th>\n",
       "      <th>year_biweek</th>\n",
       "    </tr>\n",
       "  </thead>\n",
       "  <tbody>\n",
       "    <tr>\n",
       "      <th>0</th>\n",
       "      <td>10</td>\n",
       "      <td>2006</td>\n",
       "      <td>1</td>\n",
       "      <td>2006-01-01</td>\n",
       "      <td>265</td>\n",
       "      <td>1</td>\n",
       "    </tr>\n",
       "    <tr>\n",
       "      <th>1</th>\n",
       "      <td>10</td>\n",
       "      <td>2006</td>\n",
       "      <td>2</td>\n",
       "      <td>2006-01-15</td>\n",
       "      <td>162</td>\n",
       "      <td>2</td>\n",
       "    </tr>\n",
       "    <tr>\n",
       "      <th>2</th>\n",
       "      <td>10</td>\n",
       "      <td>2006</td>\n",
       "      <td>3</td>\n",
       "      <td>2006-01-29</td>\n",
       "      <td>211</td>\n",
       "      <td>3</td>\n",
       "    </tr>\n",
       "    <tr>\n",
       "      <th>3</th>\n",
       "      <td>10</td>\n",
       "      <td>2006</td>\n",
       "      <td>4</td>\n",
       "      <td>2006-02-12</td>\n",
       "      <td>113</td>\n",
       "      <td>4</td>\n",
       "    </tr>\n",
       "    <tr>\n",
       "      <th>4</th>\n",
       "      <td>10</td>\n",
       "      <td>2006</td>\n",
       "      <td>5</td>\n",
       "      <td>2006-02-26</td>\n",
       "      <td>165</td>\n",
       "      <td>5</td>\n",
       "    </tr>\n",
       "  </tbody>\n",
       "</table>\n",
       "</div>"
      ],
      "text/plain": [
       "   province  year  biweek   date_sick  cases  year_biweek\n",
       "0        10  2006       1  2006-01-01    265            1\n",
       "1        10  2006       2  2006-01-15    162            2\n",
       "2        10  2006       3  2006-01-29    211            3\n",
       "3        10  2006       4  2006-02-12    113            4\n",
       "4        10  2006       5  2006-02-26    165            5"
      ]
     },
     "execution_count": 80,
     "metadata": {},
     "output_type": "execute_result"
    }
   ],
   "source": [
    "with open('../../output/cv_df_list_prospective.pkl', 'rb') as file:\n",
    "    data_file = pickle.load(file)\n",
    "\n",
    "k = 6\n",
    "prov = 10\n",
    "\n",
    "input_data = data_file[k]\n",
    "input_data['year_biweek'] = (input_data['year']-2006)*26 + (input_data['biweek'])\n",
    "\n",
    "df = input_data.loc[input_data['province'] == prov]\n",
    "df.head()"
   ]
  },
  {
   "cell_type": "code",
   "execution_count": 81,
   "metadata": {
    "collapsed": false
   },
   "outputs": [
    {
     "data": {
      "text/html": [
       "<div>\n",
       "<table border=\"1\" class=\"dataframe\">\n",
       "  <thead>\n",
       "    <tr style=\"text-align: right;\">\n",
       "      <th></th>\n",
       "      <th>province</th>\n",
       "      <th>year</th>\n",
       "      <th>biweek</th>\n",
       "      <th>date_sick</th>\n",
       "      <th>cases</th>\n",
       "      <th>year_biweek</th>\n",
       "    </tr>\n",
       "  </thead>\n",
       "  <tbody>\n",
       "    <tr>\n",
       "      <th>203</th>\n",
       "      <td>10</td>\n",
       "      <td>2013</td>\n",
       "      <td>22</td>\n",
       "      <td>2013-10-22</td>\n",
       "      <td>478</td>\n",
       "      <td>204</td>\n",
       "    </tr>\n",
       "    <tr>\n",
       "      <th>204</th>\n",
       "      <td>10</td>\n",
       "      <td>2013</td>\n",
       "      <td>23</td>\n",
       "      <td>2013-11-05</td>\n",
       "      <td>466</td>\n",
       "      <td>205</td>\n",
       "    </tr>\n",
       "    <tr>\n",
       "      <th>205</th>\n",
       "      <td>10</td>\n",
       "      <td>2013</td>\n",
       "      <td>24</td>\n",
       "      <td>2013-11-19</td>\n",
       "      <td>373</td>\n",
       "      <td>206</td>\n",
       "    </tr>\n",
       "    <tr>\n",
       "      <th>206</th>\n",
       "      <td>10</td>\n",
       "      <td>2013</td>\n",
       "      <td>25</td>\n",
       "      <td>2013-12-03</td>\n",
       "      <td>311</td>\n",
       "      <td>207</td>\n",
       "    </tr>\n",
       "    <tr>\n",
       "      <th>207</th>\n",
       "      <td>10</td>\n",
       "      <td>2013</td>\n",
       "      <td>26</td>\n",
       "      <td>2013-12-17</td>\n",
       "      <td>128</td>\n",
       "      <td>208</td>\n",
       "    </tr>\n",
       "  </tbody>\n",
       "</table>\n",
       "</div>"
      ],
      "text/plain": [
       "     province  year  biweek   date_sick  cases  year_biweek\n",
       "203        10  2013      22  2013-10-22    478          204\n",
       "204        10  2013      23  2013-11-05    466          205\n",
       "205        10  2013      24  2013-11-19    373          206\n",
       "206        10  2013      25  2013-12-03    311          207\n",
       "207        10  2013      26  2013-12-17    128          208"
      ]
     },
     "execution_count": 81,
     "metadata": {},
     "output_type": "execute_result"
    }
   ],
   "source": [
    "true_data = pd.read_csv('../../data/province-biweek-counts.csv')\n",
    "true_data['year_biweek'] = (true_data['year']-2006)*26 + (true_data['biweek'])\n",
    "\n",
    "true_df = true_data.loc[true_data['province'] == prov]\n",
    "true_df['date_sick'] == pd.to_datetime(true_df['date_sick'])\n",
    "true_df.tail()"
   ]
  },
  {
   "cell_type": "markdown",
   "metadata": {},
   "source": [
    "### First Approach:\n",
    "\n",
    "ie. smooth, then average\n",
    "\n",
    "1. Fit a smoothing spline to the data for the entirety of the number of years (time interval of 12+ months)\n",
    "2. Find the smoothed/fitted values for each month and add as a new column to the dataframe `(smooth_cases)`\n",
    "3. Using these smoothed values, find the average value for each month\n",
    "\n",
    "Those average values for each month are the predictions for the next year."
   ]
  },
  {
   "cell_type": "code",
   "execution_count": 82,
   "metadata": {
    "collapsed": false
   },
   "outputs": [],
   "source": [
    "x = df['year_biweek'].tolist()\n",
    "y = df['cases'].tolist()\n",
    "\n",
    "y_sum = np.cumsum(y)\n",
    "\n",
    "spl = UnivariateSpline(x, y_sum)\n",
    "# plt.plot(x, y_sum, '*', x, spl(x), '-')"
   ]
  },
  {
   "cell_type": "code",
   "execution_count": 83,
   "metadata": {
    "collapsed": false
   },
   "outputs": [
    {
     "data": {
      "text/html": [
       "<div>\n",
       "<table border=\"1\" class=\"dataframe\">\n",
       "  <thead>\n",
       "    <tr style=\"text-align: right;\">\n",
       "      <th></th>\n",
       "      <th>province</th>\n",
       "      <th>year</th>\n",
       "      <th>biweek</th>\n",
       "      <th>date_sick</th>\n",
       "      <th>cases</th>\n",
       "      <th>year_biweek</th>\n",
       "      <th>smooth_cases</th>\n",
       "    </tr>\n",
       "  </thead>\n",
       "  <tbody>\n",
       "    <tr>\n",
       "      <th>0</th>\n",
       "      <td>10</td>\n",
       "      <td>2006</td>\n",
       "      <td>1</td>\n",
       "      <td>2006-01-01</td>\n",
       "      <td>265</td>\n",
       "      <td>1</td>\n",
       "      <td>265.000000</td>\n",
       "    </tr>\n",
       "    <tr>\n",
       "      <th>1</th>\n",
       "      <td>10</td>\n",
       "      <td>2006</td>\n",
       "      <td>2</td>\n",
       "      <td>2006-01-15</td>\n",
       "      <td>162</td>\n",
       "      <td>2</td>\n",
       "      <td>162.079185</td>\n",
       "    </tr>\n",
       "    <tr>\n",
       "      <th>2</th>\n",
       "      <td>10</td>\n",
       "      <td>2006</td>\n",
       "      <td>3</td>\n",
       "      <td>2006-01-29</td>\n",
       "      <td>211</td>\n",
       "      <td>3</td>\n",
       "      <td>210.791991</td>\n",
       "    </tr>\n",
       "    <tr>\n",
       "      <th>3</th>\n",
       "      <td>10</td>\n",
       "      <td>2006</td>\n",
       "      <td>4</td>\n",
       "      <td>2006-02-12</td>\n",
       "      <td>113</td>\n",
       "      <td>4</td>\n",
       "      <td>113.307280</td>\n",
       "    </tr>\n",
       "    <tr>\n",
       "      <th>4</th>\n",
       "      <td>10</td>\n",
       "      <td>2006</td>\n",
       "      <td>5</td>\n",
       "      <td>2006-02-26</td>\n",
       "      <td>165</td>\n",
       "      <td>5</td>\n",
       "      <td>164.738203</td>\n",
       "    </tr>\n",
       "  </tbody>\n",
       "</table>\n",
       "</div>"
      ],
      "text/plain": [
       "   province  year  biweek   date_sick  cases  year_biweek  smooth_cases\n",
       "0        10  2006       1  2006-01-01    265            1    265.000000\n",
       "1        10  2006       2  2006-01-15    162            2    162.079185\n",
       "2        10  2006       3  2006-01-29    211            3    210.791991\n",
       "3        10  2006       4  2006-02-12    113            4    113.307280\n",
       "4        10  2006       5  2006-02-26    165            5    164.738203"
      ]
     },
     "execution_count": 83,
     "metadata": {},
     "output_type": "execute_result"
    }
   ],
   "source": [
    "# get the predicted values and add to the dataframe\n",
    "\n",
    "y_fit = spl(x)\n",
    "\n",
    "y_smooth = np.diff(y_fit)\n",
    "n = np.append(y_smooth[::-1], y_sum[0])\n",
    "y_smooth = n[::-1]\n",
    "\n",
    "df['smooth_cases'] = y_smooth\n",
    "\n",
    "df.head()"
   ]
  },
  {
   "cell_type": "code",
   "execution_count": 85,
   "metadata": {
    "collapsed": false
   },
   "outputs": [
    {
     "data": {
      "text/html": [
       "<div>\n",
       "<table border=\"1\" class=\"dataframe\">\n",
       "  <thead>\n",
       "    <tr style=\"text-align: right;\">\n",
       "      <th></th>\n",
       "      <th>province</th>\n",
       "      <th>year</th>\n",
       "      <th>biweek</th>\n",
       "      <th>date_sick</th>\n",
       "      <th>cases</th>\n",
       "      <th>year_biweek</th>\n",
       "      <th>smooth_cases</th>\n",
       "      <th>month</th>\n",
       "    </tr>\n",
       "  </thead>\n",
       "  <tbody>\n",
       "    <tr>\n",
       "      <th>0</th>\n",
       "      <td>10.0</td>\n",
       "      <td>2006.0</td>\n",
       "      <td>1.0</td>\n",
       "      <td>2006-01-01</td>\n",
       "      <td>265.0</td>\n",
       "      <td>1.0</td>\n",
       "      <td>265.000000</td>\n",
       "      <td>1.0</td>\n",
       "    </tr>\n",
       "    <tr>\n",
       "      <th>1</th>\n",
       "      <td>10.0</td>\n",
       "      <td>2006.0</td>\n",
       "      <td>2.0</td>\n",
       "      <td>2006-01-15</td>\n",
       "      <td>162.0</td>\n",
       "      <td>2.0</td>\n",
       "      <td>162.079185</td>\n",
       "      <td>1.0</td>\n",
       "    </tr>\n",
       "    <tr>\n",
       "      <th>2</th>\n",
       "      <td>10.0</td>\n",
       "      <td>2006.0</td>\n",
       "      <td>3.0</td>\n",
       "      <td>2006-01-29</td>\n",
       "      <td>211.0</td>\n",
       "      <td>3.0</td>\n",
       "      <td>210.791991</td>\n",
       "      <td>1.0</td>\n",
       "    </tr>\n",
       "    <tr>\n",
       "      <th>3</th>\n",
       "      <td>10.0</td>\n",
       "      <td>2006.0</td>\n",
       "      <td>4.0</td>\n",
       "      <td>2006-02-12</td>\n",
       "      <td>113.0</td>\n",
       "      <td>4.0</td>\n",
       "      <td>113.307280</td>\n",
       "      <td>2.0</td>\n",
       "    </tr>\n",
       "    <tr>\n",
       "      <th>4</th>\n",
       "      <td>10.0</td>\n",
       "      <td>2006.0</td>\n",
       "      <td>5.0</td>\n",
       "      <td>2006-02-26</td>\n",
       "      <td>165.0</td>\n",
       "      <td>5.0</td>\n",
       "      <td>164.738203</td>\n",
       "      <td>2.0</td>\n",
       "    </tr>\n",
       "  </tbody>\n",
       "</table>\n",
       "</div>"
      ],
      "text/plain": [
       "   province    year  biweek  date_sick  cases  year_biweek  smooth_cases  \\\n",
       "0      10.0  2006.0     1.0 2006-01-01  265.0          1.0    265.000000   \n",
       "1      10.0  2006.0     2.0 2006-01-15  162.0          2.0    162.079185   \n",
       "2      10.0  2006.0     3.0 2006-01-29  211.0          3.0    210.791991   \n",
       "3      10.0  2006.0     4.0 2006-02-12  113.0          4.0    113.307280   \n",
       "4      10.0  2006.0     5.0 2006-02-26  165.0          5.0    164.738203   \n",
       "\n",
       "   month  \n",
       "0    1.0  \n",
       "1    1.0  \n",
       "2    1.0  \n",
       "3    2.0  \n",
       "4    2.0  "
      ]
     },
     "execution_count": 85,
     "metadata": {},
     "output_type": "execute_result"
    }
   ],
   "source": [
    "df['date_sick'] = pd.to_datetime(df['date_sick'])\n",
    "df['month'] = 0\n",
    "\n",
    "years = [2006, 2007, 2008, 2009, 2010, 2011, 2012]\n",
    "\n",
    "\n",
    "df_w_month = pd.DataFrame(columns = ['province', 'year', 'biweek', 'date_sick', 'cases', 'year_biweek', 'smooth_cases', 'month'])\n",
    "for year in years:\n",
    "    for i in range(1, 12):\n",
    "        month_start = str(year) + '-' + str(i)\n",
    "        month_end = str(year) + '-' + str(i+1)\n",
    "        date_range = (df['date_sick'] >= month_start) & (df['date_sick'] < month_end)\n",
    "        one_month = df.loc[date_range]\n",
    "        one_month['month'] = i\n",
    "        df_w_month = df_w_month.append(one_month)\n",
    "\n",
    "df_w_month.head()"
   ]
  },
  {
   "cell_type": "code",
   "execution_count": 86,
   "metadata": {
    "collapsed": false
   },
   "outputs": [
    {
     "name": "stdout",
     "output_type": "stream",
     "text": [
      "[184.62142522631586, 151.31357449244334, 122.35501609984333, 138.4942262634064, 224.62044714999493, 303.56547195542237, 356.15198995133699, 316.4741187392579, 323.55246334059808, 392.79511509638274, 413.24313583648598, nan]\n"
     ]
    }
   ],
   "source": [
    "# now get the averages for each month\n",
    "# currently this only works for one month ahead\n",
    "\n",
    "monthly_avg = []\n",
    "for i in range(1, 13):\n",
    "    monthly_cases = df_w_month['smooth_cases'].loc[df_w_month['month'] == i].tolist()\n",
    "    avg = np.mean(monthly_cases)\n",
    "    monthly_avg.append(avg)\n",
    "\n",
    "print(monthly_avg)\n",
    "\n",
    "# monthly_avg is the predictions"
   ]
  },
  {
   "cell_type": "code",
   "execution_count": 87,
   "metadata": {
    "collapsed": false
   },
   "outputs": [
    {
     "name": "stdout",
     "output_type": "stream",
     "text": [
      "[183, 184, 185, 186, 187, 188, 189, 190, 191, 192, 193, 194, 195, 196, 197, 198, 199, 200, 201, 202, 203, 204, 205, 206, 207, 208]\n",
      "[ 183.          185.27272727  187.54545455  189.81818182  192.09090909\n",
      "  194.36363636  196.63636364  198.90909091  201.18181818  203.45454545\n",
      "  205.72727273  208.        ]\n"
     ]
    },
    {
     "data": {
      "image/png": "[encoded data removed]",
      "text/plain": [
       "<matplotlib.figure.Figure at 0x29e890739e8>"
      ]
     },
     "metadata": {},
     "output_type": "display_data"
    }
   ],
   "source": [
    "# MAKE SOME GRAPHS\n",
    "sns.set()\n",
    "plt.style.use('seaborn-paper')\n",
    "\n",
    "biweeks = true_df['year_biweek'].tolist()\n",
    "last_biweeks = biweeks[-26:]\n",
    "print(last_biweeks)\n",
    "last_months = np.linspace(last_biweeks[0], last_biweeks[len(last_biweeks)-1], 12)\n",
    "print(last_month)\n",
    "true_cases = true_df['cases']\n",
    "forecast = monthly_avg\n",
    "\n",
    "plt.title('Forecast using monthly averages: biweekly data')\n",
    "plt.xlabel('biweeks since 2006')\n",
    "plt.ylabel('cases')\n",
    "plt.xlim(0, 210)\n",
    "\n",
    "plt.plot(biweeks, true_cases, last_months, forecast)\n",
    "\n",
    "plt.show()"
   ]
  },
  {
   "cell_type": "code",
   "execution_count": 113,
   "metadata": {
    "collapsed": false
   },
   "outputs": [],
   "source": [
    "def get_monthly_avg(df):\n",
    "    # gets average values for each month in the df\n",
    "    df['year_biweek'] = (df['year']-2006)*26 + (df['biweek'])\n",
    "\n",
    "    # want to first smooth the data\n",
    "    x = np.array(df['year_biweek'])\n",
    "    y = np.array(df['cases'])\n",
    "    y_sum = np.cumsum(y)\n",
    "\n",
    "    spl = UnivariateSpline(x, y_sum)\n",
    "    y_fit = spl(x)\n",
    "    \n",
    "    y_smooth = np.diff(y_fit)\n",
    "    n = np.append(y_smooth[::-1], y_sum[0])\n",
    "    y_smooth = n[::-1]\n",
    "    df['smooth_cases'] = y_smooth\n",
    "\n",
    "    df['date_sick'] = pd.to_datetime(df['date_sick'])\n",
    "    df['month'] = 0\n",
    "    years = [2006, 2007, 2008, 2009, 2010, 2011, 2012]\n",
    "\n",
    "    df_w_month = pd.DataFrame(columns = ['province', 'year', 'biweek', 'date_sick', 'cases', 'year_biweek', 'smooth_cases', 'month'])\n",
    "    for year in years:\n",
    "        for i in range(1, 13):\n",
    "            month_start = str(year) + '-' + str(i)\n",
    "            if i < 12:\n",
    "                month_end = str(year) + '-' + str(i+1)\n",
    "            elif year != 2013:\n",
    "                month_end = str(year+1) + '-' + str(1)\n",
    "            else:\n",
    "                month_end = '2013-12-31'\n",
    "            date_range = (df['date_sick'] >= month_start) & (df['date_sick'] < month_end)\n",
    "            one_month = df.loc[date_range]\n",
    "            one_month['month'] = i\n",
    "            df_w_month = df_w_month.append(one_month)\n",
    "\n",
    "    print(df_w_month.tail())\n",
    "            \n",
    "    # then get the averages\n",
    "    monthly_avg = []\n",
    "    for i in range(1, 13):\n",
    "        monthly_cases = df_w_month['smooth_cases'].loc[df_w_month['month'] == i].tolist()\n",
    "        avg = np.mean(monthly_cases)\n",
    "        monthly_avg.append(avg)\n",
    "\n",
    "    return monthly_avg"
   ]
  },
  {
   "cell_type": "code",
   "execution_count": 114,
   "metadata": {
    "collapsed": false
   },
   "outputs": [
    {
     "name": "stdout",
     "output_type": "stream",
     "text": [
      "    province    year  biweek  date_sick  cases  year_biweek  smooth_cases  \\\n",
      "21      10.0  2006.0    22.0 2006-10-22  206.0         22.0    207.798301   \n",
      "22      10.0  2006.0    23.0 2006-11-05  382.0         23.0    379.768143   \n",
      "23      10.0  2006.0    24.0 2006-11-19   94.0         24.0     96.013514   \n",
      "24      10.0  2006.0    25.0 2006-12-03  429.0         25.0    427.773576   \n",
      "25      10.0  2006.0    26.0 2006-12-17  173.0         26.0    173.442468   \n",
      "\n",
      "    month  \n",
      "21   10.0  \n",
      "22   11.0  \n",
      "23   11.0  \n",
      "24   12.0  \n",
      "25   12.0  \n",
      "[212.61617238007832, 139.02658483749866, 141.71679137579508, 95.77833045352952, 370.61699451680909, 391.25332434655479, 390.16986447660065, 206.52162694090498, 270.55469130847405, 248.89672901213771, 237.89082879651232, 300.60802189571723]\n"
     ]
    }
   ],
   "source": [
    "df = data_file[0]\n",
    "df = df.loc[df['province'] == prov]\n",
    "print(get_monthly_avg(df))"
   ]
  },
  {
   "cell_type": "markdown",
   "metadata": {},
   "source": [
    "### Second Approach\n",
    "\n",
    "ie. average then smooth\n",
    "\n",
    "1. Find the average number of cases for each month\n",
    "2. Smooth the average values for each month (time interval of strictly 12 months)\n",
    "3. Get the smoothed/fitted average values for each month\n",
    "\n",
    "These are the predictions for the next year."
   ]
  },
  {
   "cell_type": "code",
   "execution_count": 192,
   "metadata": {
    "collapsed": false
   },
   "outputs": [],
   "source": [
    "# now try finding the average value for each month\n",
    "# fitting a spline to the monthly averages (lose years)\n",
    "# then get the fitted values for each month\n",
    "\n",
    "# start by getting the monthly averages\n",
    "monthly_avg2 = []\n",
    "for i in range(1, 13):\n",
    "    monthly_cases = df['cases'].loc[df['month'] == i].tolist()\n",
    "    avg = np.mean(monthly_cases)\n",
    "    monthly_avg2.append(avg)\n",
    "    \n",
    "# monthly_avg2 is the \"true\" monthly averages"
   ]
  },
  {
   "cell_type": "code",
   "execution_count": 193,
   "metadata": {
    "collapsed": false,
    "scrolled": false
   },
   "outputs": [
    {
     "name": "stdout",
     "output_type": "stream",
     "text": [
      "[  437.5          302.25334334   290.8536056    261.15577502   416.78529476\n",
      "   594.79149355   723.50185493   822.37489368   755.2108737    962.37191041\n",
      "  1278.28850541   789.95961593]\n"
     ]
    },
    {
     "data": {
      "image/png": "[encoded data removed]",
      "text/plain": [
       "<matplotlib.figure.Figure at 0x1aeb5c639e8>"
      ]
     },
     "metadata": {},
     "output_type": "display_data"
    }
   ],
   "source": [
    "# get the fitted values\n",
    "x2 = np.arange(1, 13)\n",
    "y_sum2 = np.cumsum(monthly_avg2)\n",
    "xnew2 = np.linspace(1, 12, num=100, endpoint=True)\n",
    "\n",
    "spl2 = UnivariateSpline(x2, y_sum2)\n",
    "plt.plot(x2, y_sum2, '*', xnew2, spl2(xnew2), '-')\n",
    "\n",
    "y_fit2 = spl2(x2)\n",
    "y_smooth2 = np.diff(y_fit2)\n",
    "m = np.append(y_smooth2[::-1], y_sum2[0])\n",
    "y_smooth2 = m[::-1]\n",
    "\n",
    "print(y_smooth2)\n",
    "\n",
    "# y_smooth2 are the predictions"
   ]
  },
  {
   "cell_type": "markdown",
   "metadata": {},
   "source": [
    "### Comparing Approaches"
   ]
  },
  {
   "cell_type": "code",
   "execution_count": 194,
   "metadata": {
    "collapsed": false
   },
   "outputs": [
    {
     "name": "stdout",
     "output_type": "stream",
     "text": [
      "[ 0.08987247  0.78593428  1.72997854  2.08174393  1.02755608  1.2086858\n",
      "  3.66535301  4.62883576  2.64813659  0.68660186  2.07274559  1.23148422]\n"
     ]
    }
   ],
   "source": [
    "# now compare the two approaches\n",
    "\n",
    "diff_in_approaches = abs(monthly_avg - y_smooth2)\n",
    "print(diff_in_approaches)"
   ]
  },
  {
   "cell_type": "code",
   "execution_count": 196,
   "metadata": {
    "collapsed": false
   },
   "outputs": [
    {
     "name": "stdout",
     "output_type": "stream",
     "text": [
      "[  8.98724682e-02   2.32590935e-01   3.83584137e-01   4.25968904e-01\n",
      "   3.12850838e-01   1.79352285e-04   5.63498080e-01   1.10372944e+00\n",
      "   1.13726289e+00   6.85308545e-01   2.38749003e-01   2.81317114e-02]\n"
     ]
    }
   ],
   "source": [
    "true_avg_vs_first_approach = abs(np.array(monthly_avg) - np.array(monthly_avg2))\n",
    "print(true_avg_vs_first_approach)"
   ]
  },
  {
   "cell_type": "code",
   "execution_count": 197,
   "metadata": {
    "collapsed": false
   },
   "outputs": [
    {
     "name": "stdout",
     "output_type": "stream",
     "text": [
      "[ 0.          0.55334334  1.3463944   1.65577502  0.71470524  1.20850645\n",
      "  3.10185493  3.52510632  1.5108737   1.37191041  2.31149459  1.25961593]\n"
     ]
    }
   ],
   "source": [
    "true_avg_vs_second_approach = abs(np.array(y_smooth2) - np.array(monthly_avg2))\n",
    "print(true_avg_vs_second_approach)"
   ]
  },
  {
   "cell_type": "code",
   "execution_count": null,
   "metadata": {
    "collapsed": true
   },
   "outputs": [],
   "source": [
    "\n",
    "'''\n",
    "input_data['date_sick'] = pd.to_datetime(input_data['date_sick'])\n",
    "\n",
    "data = pd.DataFrame({'date_sick': input_data['date_sick'], 'cases': input_data['cases']})\n",
    "data = data.set_index('date_sick')\n",
    "\n",
    "data\n",
    "\n",
    "plt.plot(data)\n",
    "'''"
   ]
  }
 ],
 "metadata": {
  "anaconda-cloud": {},
  "kernelspec": {
   "display_name": "Python [conda root]",
   "language": "python",
   "name": "conda-root-py"
  },
  "language_info": {
   "codemirror_mode": {
    "name": "ipython",
    "version": 3
   },
   "file_extension": ".py",
   "mimetype": "text/x-python",
   "name": "python",
   "nbconvert_exporter": "python",
   "pygments_lexer": "ipython3",
   "version": "3.5.2"
  }
 },
 "nbformat": 4,
 "nbformat_minor": 2
}
